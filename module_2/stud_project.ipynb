{
 "cells": [
  {
   "cell_type": "code",
   "execution_count": null,
   "metadata": {
    "collapsed": true,
    "pycharm": {
     "name": "#%%\n"
    }
   },
   "outputs": [],
   "source": [
    "import matplotlib.pyplot as plt\n",
    "import pandas as pd\n",
    "from IPython.display import display\n",
    "\n",
    "pd.set_option('display.max_columns', 20)\n",
    "\n",
    "stud_df = pd.DataFrame(pd.read_csv('stud_math.csv'))\n",
    "\n",
    "display(stud_df.info())\n",
    "\n",
    "# импорт библиотек и создание датафрейма для работы с базой"
   ]
  },
  {
   "cell_type": "code",
   "execution_count": null,
   "outputs": [],
   "source": [
    "display(stud_df.school.value_counts())\n",
    "display(stud_df.sex.value_counts())\n",
    "display(stud_df.age.hist())\n",
    "display(stud_df.age.describe())\n",
    "plt.show()\n",
    "display(stud_df.address.value_counts())\n",
    "display(stud_df.famsize.value_counts())\n",
    "display(stud_df.Pstatus.value_counts())\n",
    "display(stud_df.Medu.hist())\n",
    "display(stud_df.Medu.describe())\n",
    "plt.show()\n",
    "display(stud_df.Fedu.hist())\n",
    "display(stud_df.Fedu.describe())\n",
    "plt.show()\n",
    "display(stud_df.Mjob.value_counts())\n",
    "display(stud_df.Fjob.value_counts())\n",
    "display(stud_df.reason.value_counts())\n",
    "display(stud_df.guardian.value_counts())\n",
    "display(stud_df.traveltime.hist())\n",
    "display(stud_df.traveltime.describe())\n",
    "plt.show()\n",
    "display(stud_df.studytime.hist())\n",
    "display(stud_df.studytime.describe())\n",
    "plt.show()\n",
    "display(stud_df.failures.hist())\n",
    "display(stud_df.failures.describe())\n",
    "plt.show()\n",
    "display(stud_df.schoolsup.value_counts())\n",
    "display(stud_df.famsup.value_counts())\n",
    "display(stud_df.paid.value_counts())\n",
    "display(stud_df.activities.value_counts())\n",
    "display(stud_df.nursery.value_counts())\n",
    "display(stud_df.higher.value_counts())\n",
    "display(stud_df.internet.value_counts())\n",
    "display(stud_df.romantic.value_counts())\n",
    "display(stud_df.famrel.hist())\n",
    "display(stud_df.famrel.describe())\n",
    "plt.show()\n",
    "display(stud_df.freetime.hist())\n",
    "display(stud_df.freetime.describe())\n",
    "plt.show()\n",
    "display(stud_df.goout.hist())\n",
    "display(stud_df.goout.describe())\n",
    "plt.show()\n",
    "display(stud_df.health.hist())\n",
    "display(stud_df.health.describe())\n",
    "plt.show()\n",
    "display(stud_df.absences.hist())\n",
    "display(stud_df.absences.describe())\n",
    "plt.show()\n",
    "display(stud_df.score.hist())\n",
    "display(stud_df.score.describe())\n",
    "plt.show()\n",
    "\n",
    "# Первичный осмотр датафрейма, вывод информации по каждому столбцу\n",
    "# Данные проанализированы, столбцы, требующие нормализации не найдены"
   ],
   "metadata": {
    "collapsed": false,
    "pycharm": {
     "name": "#%%\n"
    }
   }
  },
  {
   "cell_type": "code",
   "execution_count": null,
   "outputs": [],
   "source": [
    "display(stud_df.corr())\n",
    "# На этом этапе мы смотрим на корреляцию имеющихся столбцов\n",
    "# Нас интересует корреляция со столбцом score\n",
    "# Столбцы famler, freetime имеют малый коэффициент корреляции, их можно \"отбросить\""
   ],
   "metadata": {
    "collapsed": false,
    "pycharm": {
     "name": "#%%\n"
    }
   }
  },
  {
   "cell_type": "code",
   "execution_count": null,
   "outputs": [],
   "source": [
    "perc_null = stud_df.isnull().sum(axis=0) / len(stud_df)*100\n",
    "display(perc_null.sort_values(ascending=False).head(10))\n",
    "\n",
    "# Мы видим, что столбцы Pstatus, paid, famsup, Fjob имеют большую часть нулевых, не заполненных, строк, в связи с этим,\n",
    "# коэффициент корреляции по данным столбцам может быть подсчитам не достоверно, за неимением возможности получить\n",
    "# недостающие данные, мы не будем рассматривать данные столбцы при заключении вывода"
   ],
   "metadata": {
    "collapsed": false,
    "pycharm": {
     "name": "#%%\n"
    }
   }
  },
  {
   "cell_type": "code",
   "execution_count": null,
   "outputs": [],
   "source": [
    "# Вывод:\n",
    "\n",
    "# 1. Успеваемость студентов зависит от образования матери\n",
    "# (чем лучше образование матери, тем лучше показатель успеваемости студента)\n",
    "\n",
    "# 2. Успеваемость студентов зависит от показателя внеучебных неудач\n",
    "# (чем больше неудач, тем хуже показатель успеваемости студента)\n",
    "\n",
    "# 3. Успеваемость студентов зависит от количества проводимого времени с друзьями\n",
    "# (чем больше времени студент проводит с друзьями,тем хуже показатель успеваемости\n",
    "# студента)"
   ],
   "metadata": {
    "collapsed": false,
    "pycharm": {
     "name": "#%%\n"
    }
   }
  }
 ],
 "metadata": {
  "kernelspec": {
   "display_name": "Python 3",
   "language": "python",
   "name": "python3"
  },
  "language_info": {
   "codemirror_mode": {
    "name": "ipython",
    "version": 2
   },
   "file_extension": ".py",
   "mimetype": "text/x-python",
   "name": "python",
   "nbconvert_exporter": "python",
   "pygments_lexer": "ipython2",
   "version": "2.7.6"
  }
 },
 "nbformat": 4,
 "nbformat_minor": 0
}