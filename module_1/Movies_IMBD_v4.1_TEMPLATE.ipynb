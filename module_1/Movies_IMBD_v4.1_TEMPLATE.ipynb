{
 "cells": [
  {
   "cell_type": "code",
   "execution_count": 0,
   "metadata": {
    "_cell_guid": "b1076dfc-b9ad-4769-8c92-a6c4dae69d19",
    "_uuid": "8f2839f25d086af736a60e9eeb907d3b93b6e0e5",
    "colab": {},
    "colab_type": "code",
    "id": "U2D2gTdJVp90"
   },
   "outputs": [],
   "source": [
    "import numpy as np\n",
    "import pandas as pd\n",
    "import seaborn as sns\n",
    "import matplotlib.pyplot as plt\n",
    "from collections import Counter"
   ]
  },
  {
   "cell_type": "code",
   "execution_count": 0,
   "metadata": {
    "_cell_guid": "79c7e3d0-c299-4dcb-8224-4455121ee9b0",
    "_uuid": "d629ff2d2480ee46fbb7e2d37f6b5fab8052498a",
    "colab": {},
    "colab_type": "code",
    "id": "oyGfxL3eVp9-"
   },
   "outputs": [],
   "source": [
    "filmdf = pd.read_csv('movie_bd_v5.csv')\n",
    "filmdf.sample(5)"
   ]
  },
  {
   "cell_type": "code",
   "execution_count": 0,
   "metadata": {
    "colab": {},
    "colab_type": "code",
    "id": "CoYUnagMVp-C"
   },
   "outputs": [],
   "source": [
    "filmdf.describe()\n",
    "profit = filmdf['revenue'] - filmdf['budget']"
   ]
  },
  {
   "cell_type": "markdown",
   "metadata": {
    "colab_type": "text",
    "id": "DTIt7ezGVp-G"
   },
   "source": [
    "# Предобработка"
   ]
  },
  {
   "cell_type": "code",
   "execution_count": 0,
   "metadata": {
    "colab": {},
    "colab_type": "code",
    "id": "jNb40DwKVp-H"
   },
   "outputs": [],
   "source": [
    "answers = {} # создадим словарь для ответов\n",
    "\n",
    "# тут другие ваши предобработки колонок например:\n",
    "\n",
    "#the time given in the dataset is in string format.\n",
    "#So we need to change this in datetime format\n",
    "# ..."
   ]
  },
  {
   "cell_type": "markdown",
   "metadata": {
    "colab_type": "text",
    "id": "YxZaH-nPVp-L"
   },
   "source": [
    "# 1. У какого фильма из списка самый большой бюджет?"
   ]
  },
  {
   "cell_type": "markdown",
   "metadata": {
    "colab_type": "text",
    "id": "Nd-G5gX6Vp-M"
   },
   "source": [
    "Использовать варианты ответов в коде решения запрещено.    \n",
    "Вы думаете и в жизни у вас будут варианты ответов?)"
   ]
  },
  {
   "cell_type": "code",
   "execution_count": 0,
   "metadata": {
    "colab": {},
    "colab_type": "code",
    "id": "uVnXAY5RVp-O"
   },
   "outputs": [],
   "source": [
    "# в словарь вставляем номер вопроса и ваш ответ на него\n",
    "# Пример: \n",
    "answers['1'] = '2. Spider-Man 3 (tt0413300)'\n",
    "# запишите свой вариант ответа\n",
    "answers['1'] = '...'\n",
    "# если ответили верно, можете добавить комментарий со значком \"+\""
   ]
  },
  {
   "cell_type": "code",
   "execution_count": 0,
   "metadata": {
    "colab": {},
    "colab_type": "code",
    "id": "dZwb3m28Vp-S"
   },
   "outputs": [],
   "source": [
    "# тут пишем ваш код для решения данного вопроса:\n",
    "print(filmdf[filmdf.budget == filmdf.budget.max()].imdb_id)\n",
    "answers['1'] = filmdf[filmdf.budget == filmdf.budget.max()].imdb_id"
   ]
  },
  {
   "cell_type": "markdown",
   "metadata": {
    "colab_type": "text",
    "id": "K7L3nbRXVp-X"
   },
   "source": [
    "ВАРИАНТ 2"
   ]
  },
  {
   "cell_type": "code",
   "execution_count": 0,
   "metadata": {
    "colab": {},
    "colab_type": "code",
    "id": "OGaoQI7rVp-X"
   },
   "outputs": [],
   "source": [
    "# можно добавлять разные варианты решения"
   ]
  },
  {
   "cell_type": "markdown",
   "metadata": {
    "colab_type": "text",
    "id": "FNRbbI3vVp-c"
   },
   "source": [
    "# 2. Какой из фильмов самый длительный (в минутах)?"
   ]
  },
  {
   "cell_type": "code",
   "execution_count": 0,
   "metadata": {
    "colab": {},
    "colab_type": "code",
    "id": "vHAoEXNTVp-d"
   },
   "outputs": [],
   "source": [
    "# думаю логику работы с этим словарем вы уже поняли, \n",
    "# по этому не буду больше его дублировать\n",
    "answers['2'] = '...'"
   ]
  },
  {
   "cell_type": "code",
   "execution_count": 0,
   "metadata": {
    "colab": {},
    "colab_type": "code",
    "id": "ot-VX2XrVp-g"
   },
   "outputs": [],
   "source": [
    "print(filmdf[filmdf.runtime == filmdf.runtime.max()].imdb_id)\n",
    "answers['2'] = filmdf[filmdf.runtime == filmdf.runtime.max()].imdb_id"
   ]
  },
  {
   "cell_type": "markdown",
   "metadata": {
    "colab_type": "text",
    "id": "bapLlpW8Vp-k"
   },
   "source": [
    "# 3. Какой из фильмов самый короткий (в минутах)?\n",
    "\n",
    "\n",
    "\n"
   ]
  },
  {
   "cell_type": "code",
   "execution_count": 0,
   "metadata": {
    "colab": {},
    "colab_type": "code",
    "id": "YBxaSHuAVp-l"
   },
   "outputs": [],
   "source": [
    "\n",
    "print(filmdf[filmdf.runtime == filmdf.runtime.min()].imdb_id)\n",
    "answers['3'] = filmdf[filmdf.runtime == filmdf.runtime.min()].imdb_id"
   ]
  },
  {
   "cell_type": "markdown",
   "metadata": {
    "colab_type": "text",
    "id": "TfQbxbfNVp-p"
   },
   "source": [
    "# 4. Какова средняя длительность фильмов?\n"
   ]
  },
  {
   "cell_type": "code",
   "execution_count": 0,
   "metadata": {
    "colab": {},
    "colab_type": "code",
    "id": "5K6dKZYVVp-q"
   },
   "outputs": [],
   "source": [
    "\n",
    "print(filmdf.runtime.mean())\n",
    "answers['4'] ==filmdf.runtime.mean()"
   ]
  },
  {
   "cell_type": "markdown",
   "source": [
    "# 5. Каково медианное значение длительности фильмов? "
   ],
   "metadata": {
    "collapsed": false
   }
  },
  {
   "cell_type": "code",
   "execution_count": 0,
   "metadata": {
    "colab": {},
    "colab_type": "code",
    "id": "iBROplKnVp-v"
   },
   "outputs": [],
   "source": [
    "\n",
    "print(filmdf.runtime.median())\n",
    "answers['5'] = filmdf.runtime.median()"
   ]
  },
  {
   "cell_type": "markdown",
   "metadata": {
    "colab_type": "text",
    "id": "39P-deDSVp-y"
   },
   "source": [
    "# 6. Какой самый прибыльный фильм?\n",
    "#### Внимание! Здесь и далее под «прибылью» или «убытками» понимается разность между сборами и бюджетом фильма. (прибыль = сборы - бюджет) в нашем датасете это будет (profit = revenue - budget) "
   ]
  },
  {
   "cell_type": "code",
   "execution_count": 0,
   "metadata": {
    "colab": {},
    "colab_type": "code",
    "id": "UYZh4T9WVp-y"
   },
   "outputs": [],
   "source": [
    "# лучше код получения столбца profit вынести в Предобработку что в начале\n",
    "prof_df = pd.Series(profit.values, filmdf['imdb_id'])\n",
    "print(prof_df.sort_values(ascending=False).head().index.item())\n",
    "\n",
    "answers['6'] = prof_df.sort_values(ascending=False).head().index.item()"
   ]
  },
  {
   "cell_type": "markdown",
   "metadata": {
    "colab_type": "text",
    "id": "M99JmIX4Vp-2"
   },
   "source": [
    "# 7. Какой фильм самый убыточный? "
   ]
  },
  {
   "cell_type": "code",
   "execution_count": 0,
   "metadata": {
    "colab": {},
    "colab_type": "code",
    "id": "w-D2m4XPVp-3"
   },
   "outputs": [],
   "source": [
    "\n",
    "print(prof_df.sort_values().head(1).index.item())\n",
    "answers['7'] = prof_df.sort_values().head(1).index.item()"
   ]
  },
  {
   "cell_type": "markdown",
   "metadata": {
    "colab_type": "text",
    "id": "wEOM5ERVVp-6"
   },
   "source": [
    "# 8. У скольких фильмов из датасета объем сборов оказался выше бюджета?"
   ]
  },
  {
   "cell_type": "code",
   "execution_count": 0,
   "metadata": {
    "colab": {},
    "colab_type": "code",
    "id": "y00_7HD6Vp-7"
   },
   "outputs": [],
   "source": [
    "\n",
    "print(filmdf[filmdf.revenue > filmdf.budget].imdb_id.value_counts())\n",
    "answers['8']=filmdf[filmdf.revenue > filmdf.budget].imdb_id.value_counts()"
   ]
  },
  {
   "cell_type": "markdown",
   "metadata": {
    "colab_type": "text",
    "id": "xhpspA9KVp_A"
   },
   "source": [
    "# 9. Какой фильм оказался самым кассовым в 2008 году?"
   ]
  },
  {
   "cell_type": "code",
   "execution_count": 0,
   "metadata": {
    "colab": {},
    "colab_type": "code",
    "id": "MoUyQr9RVp_B"
   },
   "outputs": [],
   "source": [
    "f2008 = pd.DataFrame(filmdf[filmdf.release_year == 2008])\n",
    "print(f2008[f2008.revenue == f2008.revenue.max()].imdb_id)\n",
    "answers['9'] = f2008[f2008.revenue == f2008.revenue.max()].imdb_id"
   ]
  },
  {
   "cell_type": "markdown",
   "metadata": {
    "colab_type": "text",
    "id": "Zi4hDKidVp_F"
   },
   "source": [
    "# 10. Самый убыточный фильм за период с 2012 по 2014 г. (включительно)?\n"
   ]
  },
  {
   "cell_type": "code",
   "execution_count": 0,
   "metadata": {
    "colab": {},
    "colab_type": "code",
    "id": "XqyRmufJVp_F"
   },
   "outputs": [],
   "source": [
    "f1214 = pd.DataFrame(filmdf[(filmdf.release_year >= 2012) &\n",
    "                     filmdf.release_year <= 2014])\n",
    "profit_12 = f1214['revenue'] - filmdf['budget']\n",
    "prof_s = pd.Series(profit_12.values, f1214['imdb_id'])\n",
    "print(prof_s.sort_values().head(1).index.item())\n",
    "answers['10'] = prof_s.sort_values().head(1).index.item()"
   ]
  },
  {
   "cell_type": "markdown",
   "metadata": {
    "colab_type": "text",
    "id": "EA7Sa9dkVp_I"
   },
   "source": [
    "# 11. Какого жанра фильмов больше всего?"
   ]
  },
  {
   "cell_type": "code",
   "execution_count": 0,
   "metadata": {
    "colab": {},
    "colab_type": "code",
    "id": "zsJAwJ8QVp_J"
   },
   "outputs": [],
   "source": [
    "# эту задачу тоже можно решать разными подходами, попробуй реализовать разные варианты\n",
    "# если будешь добавлять функцию - выноси ее в предобработку что в начале\n",
    "temp = pd.Series([], dtype='string')\n",
    "for row in filmdf['genres']:\n",
    "    genres = row.split('|')\n",
    "    temp = temp.append(pd.Series(genres), ignore_index=True)\n",
    "result = temp.value_counts()\n",
    "print(result)\n",
    "answers['11'] = result"
   ]
  },
  {
   "cell_type": "markdown",
   "metadata": {
    "colab_type": "text",
    "id": "Ax6g2C8SVp_M"
   },
   "source": [
    "ВАРИАНТ 2"
   ]
  },
  {
   "cell_type": "code",
   "execution_count": 0,
   "metadata": {
    "colab": {},
    "colab_type": "code",
    "id": "otO3SbrSVp_N"
   },
   "outputs": [],
   "source": []
  },
  {
   "cell_type": "markdown",
   "metadata": {
    "colab_type": "text",
    "id": "T9_bPWpkVp_Q"
   },
   "source": [
    "# 12. Фильмы какого жанра чаще всего становятся прибыльными? "
   ]
  },
  {
   "cell_type": "code",
   "execution_count": 0,
   "metadata": {
    "colab": {},
    "colab_type": "code",
    "id": "Tmt8MaK1Vp_R"
   },
   "outputs": [],
   "source": [
    "prof_df = filmdf[filmdf.budget < filmdf.revenue]\n",
    "temp = pd.Series([], dtype='string')\n",
    "for row in prof_df['genres']:\n",
    "    genres = row.split('|')\n",
    "    temp = temp.append(pd.Series(genres), ignore_index=True)\n",
    "result = temp.value_counts()\n",
    "print(result)\n",
    "answers['12'] = result"
   ]
  },
  {
   "cell_type": "markdown",
   "metadata": {
    "colab_type": "text",
    "id": "0F23bgsDVp_U"
   },
   "source": [
    "# 13. У какого режиссера самые большие суммарные кассовые сборы?"
   ]
  },
  {
   "cell_type": "code",
   "execution_count": 0,
   "metadata": {
    "colab": {},
    "colab_type": "code",
    "id": "K6Z3J8ygVp_X"
   },
   "outputs": [],
   "source": [
    "pivot = filmdf.pivot_table(\n",
    "values=['revenue'],\n",
    "index= ['director'],\n",
    "aggfunc='sum')\n",
    "print(pivot.sort_values(by = ['revenue'],ascending=False))\n",
    "answers['13'] = pivot.sort_values(by = ['revenue'],ascending=False)"
   ]
  },
  {
   "cell_type": "markdown",
   "metadata": {
    "colab_type": "text",
    "id": "PsYC9FgRVp_a"
   },
   "source": [
    "# 14. Какой режисер снял больше всего фильмов в стиле Action?"
   ]
  },
  {
   "cell_type": "code",
   "execution_count": 0,
   "metadata": {
    "colab": {},
    "colab_type": "code",
    "id": "wd2M-wHeVp_b"
   },
   "outputs": [],
   "source": [
    "def create_filter(director,col):\n",
    "    def genre_filter(row):\n",
    "        return ('Action' in set(row['genres'].split('|'))) & (row[col] in director)\n",
    "    return genre_filter\n",
    "\n",
    "directs = [\n",
    "'Ridley Scott',\n",
    "'Guy Ritchie',\n",
    "'Robert Rodriguez',\n",
    "'Quentin Tarantino',\n",
    "'Tony Scott'\n",
    "]\n",
    "\n",
    "dfa = filmdf.apply(create_filter(directs, 'director'), axis=1)\n",
    "to_list = dfa.to_list()\n",
    "actions = filmdf.loc[to_list]\n",
    "print(actions['director'].value_counts().head(1).index.item())\n",
    "\n",
    "answers['14']=actions['director'].value_counts().head(1).index.item()"
   ]
  },
  {
   "cell_type": "markdown",
   "metadata": {
    "colab_type": "text",
    "id": "PQ0KciD7Vp_f"
   },
   "source": [
    "# 15. Фильмы с каким актером принесли самые высокие кассовые сборы в 2012 году? "
   ]
  },
  {
   "cell_type": "code",
   "execution_count": 0,
   "metadata": {
    "colab": {},
    "colab_type": "code",
    "id": "aga62oeKVp_g"
   },
   "outputs": [],
   "source": [
    "f2012 = pd.DataFrame(filmdf[filmdf.release_year == 2012])\n",
    "rev_2012 = pd.DataFrame(f2012[f2012.revenue == f2012.revenue.max()])\n",
    "acl = set(rev_2012['cast'].values[0].split('|'))\n",
    "actrs = set([\n",
    "    'Nicolas Cage',\n",
    "    'Tom Hardy',\n",
    "    'Chris Hemsworth',\n",
    "    'Jim Sturgess',\n",
    "    'Emma Stone',\n",
    "])\n",
    "print(actrs.intersection(acl))\n",
    "answers['15']=actrs.intersection(acl)"
   ]
  },
  {
   "cell_type": "markdown",
   "metadata": {
    "colab_type": "text",
    "id": "mWHyyL7QVp_j"
   },
   "source": [
    "# 16. Какой актер снялся в большем количестве высокобюджетных фильмов?"
   ]
  },
  {
   "cell_type": "code",
   "execution_count": 0,
   "metadata": {
    "colab": {},
    "colab_type": "code",
    "id": "qQtmHKTFVp_k"
   },
   "outputs": [],
   "source": [
    "budg_films = pd.DataFrame(filmdf[filmdf.budget > filmdf.budget.mean()])\n",
    "\n",
    "actrs = [\n",
    "    'Tom Cruise',\n",
    "    'Mark Wahlberg',\n",
    "    'Matt Damon',\n",
    "    'Angelina Jolie',\n",
    "    'Adam Sandler',\n",
    "]\n",
    "\n",
    "stats = pd.Series([], dtype='string')\n",
    "\n",
    "\n",
    "def actor_filter(actor, col):\n",
    "    def f(row):\n",
    "        return actor in row[col].split('|')\n",
    "    return f\n",
    "\n",
    "\n",
    "for actor in actrs:\n",
    "    films_count = budg_films.loc[budg_films.apply(actor_filter(actor, 'cast'), axis=1).to_list()].size\n",
    "    stats = stats.append(pd.Series([films_count], index=[actor]))\n",
    "\n",
    "stats.sort_values(ascending=False, inplace=True);\n",
    "print(stats.head(1).index.to_list()[0])\n",
    "answers['16']=stats.head(1).index.to_list()[0]"
   ]
  },
  {
   "cell_type": "markdown",
   "metadata": {
    "colab_type": "text",
    "id": "NIh6AaW5Vp_n"
   },
   "source": [
    "# 17. В фильмах какого жанра больше всего снимался Nicolas Cage? "
   ]
  },
  {
   "cell_type": "code",
   "execution_count": 0,
   "metadata": {
    "colab": {},
    "colab_type": "code",
    "id": "H74SJDIBVp_n"
   },
   "outputs": [],
   "source": [
    "def actr_filter(row):\n",
    "    return ('Nicolas Cage' in set(row['cast'].split('|')))\n",
    "\n",
    "\n",
    "result1 = filmdf.apply(actr_filter, axis=1)\n",
    "NC_films_df = filmdf.loc[result1]\n",
    "# display(NC_films_df)\n",
    "\n",
    "result2 = pd.Series([], dtype='string')\n",
    "\n",
    "for row in NC_films_df['genres']:\n",
    "    genres = row.split('|')\n",
    "    result2 = result2.append(pd.Series(genres), ignore_index=True)\n",
    "answer = result2.value_counts()\n",
    "\n",
    "print(answer)\n",
    "answers['17']=answer"
   ]
  },
  {
   "cell_type": "markdown",
   "metadata": {
    "colab_type": "text",
    "id": "RqOmPRfWVp_q"
   },
   "source": [
    "# 18. Самый убыточный фильм от Paramount Pictures"
   ]
  },
  {
   "cell_type": "code",
   "execution_count": 0,
   "metadata": {
    "colab": {},
    "colab_type": "code",
    "id": "9E_B0Y96Vp_r"
   },
   "outputs": [],
   "source": [
    "def create_filter(company, col):\n",
    "    def company_filter(row):\n",
    "        return company in row[col].split('|')\n",
    "    return company_filter\n",
    "\n",
    "lowcost_films = filmdf[filmdf.revenue < filmdf.budget]\n",
    "temp = lowcost_films.apply(create_filter('Paramount Pictures','production_companies'),axis=1)\n",
    "result = lowcost_films.loc[temp.to_list()]\n",
    "profit_result = result['budget'] - result['revenue']\n",
    "resser = pd.Series(profit_result.values, result['imdb_id'])\n",
    "print(resser.sort_values(ascending=False).head(1))\n",
    "answers['18']= resser.sort_values(ascending=False).head(1)"
   ]
  },
  {
   "cell_type": "markdown",
   "source": [
    "# 19. Какой год стал самым успешным по суммарным кассовым сборам?"
   ],
   "metadata": {
    "collapsed": false
   }
  },
  {
   "cell_type": "code",
   "execution_count": 0,
   "metadata": {
    "colab": {},
    "colab_type": "code",
    "id": "Dnbt4GdIVp_v"
   },
   "outputs": [],
   "source": [
    "revenue_sucses = filmdf.pivot_table(\n",
    "values=['revenue'],\n",
    "index= ['release_year'],\n",
    "aggfunc='sum')\n",
    "print(revenue_sucses.sort_values(by = ['revenue'],ascending=False))\n",
    "answers['19'] = revenue_sucses.sort_values(by = ['revenue'],ascending=False)"
   ]
  },
  {
   "cell_type": "markdown",
   "metadata": {
    "colab_type": "text",
    "id": "JAzJh4QAVp_z"
   },
   "source": [
    "# 20. Какой самый прибыльный год для студии Warner Bros?"
   ]
  },
  {
   "cell_type": "code",
   "execution_count": 0,
   "metadata": {
    "colab": {},
    "colab_type": "code",
    "id": "wgVu02DEVp_0"
   },
   "outputs": [],
   "source": [
    "def create_filter(company, col):\n",
    "    def company_filter(row):\n",
    "        return company in row[col].split('|')\n",
    "    return company_filter\n",
    "\n",
    "filmdf.loc[:,'profit'] = filmdf['revenue']-filmdf['budget']\n",
    "temp = filmdf.apply(create_filter('Warner Bros.','production_companies'),axis=1)\n",
    "WB_films = filmdf.loc[temp.to_list()]\n",
    "WB_gr = WB_films.groupby(by='release_year',axis=0).profit.sum()\n",
    "print(WB_gr.sort_values(ascending=False).head(1).index.item())\n",
    "answers['20']= WB_gr.sort_values(ascending=False).head(1).index.item()"
   ]
  },
  {
   "cell_type": "markdown",
   "metadata": {
    "colab_type": "text",
    "id": "8Im1S2HRVp_4"
   },
   "source": [
    "# 21. В каком месяце за все годы суммарно вышло больше всего фильмов?"
   ]
  },
  {
   "cell_type": "code",
   "execution_count": 0,
   "metadata": {
    "colab": {},
    "colab_type": "code",
    "id": "lev6TH7gVp_4"
   },
   "outputs": [],
   "source": [
    "months = {'1':'January', '2':'February', '3':'March','4':'April','5':'May','6':'June',\n",
    "          '7':'July','8':'August','9':'September','10':'October','11':'November','12':'December'}\n",
    "\n",
    "def month_converter (row):\n",
    "    date = row['release_date']\n",
    "    month = date[:2]\n",
    "    if (month[1]== '/'):\n",
    "        month = month[:1]\n",
    "    return months[month]\n",
    "\n",
    "filmdf.loc[:,'month'] = filmdf.apply(month_converter, axis=1)\n",
    "grouped_months = filmdf.groupby(by='month').month.count()\n",
    "print(grouped_months.sort_values(ascending=False).head(1).index.item())\n",
    "answers['21']=grouped_months.sort_values(ascending=False).head(1).index.item()"
   ]
  },
  {
   "cell_type": "markdown",
   "metadata": {
    "colab_type": "text",
    "id": "uAJsZ_NeVp_7"
   },
   "source": [
    "# 22. Сколько суммарно вышло фильмов летом? (за июнь, июль, август)"
   ]
  },
  {
   "cell_type": "code",
   "execution_count": 0,
   "metadata": {
    "colab": {},
    "colab_type": "code",
    "id": "Aa-hEREoVp_8"
   },
   "outputs": [],
   "source": [
    "months = {'1':'January', '2':'February', '3':'March','4':'April','5':'May','6':'June',\n",
    "          '7':'July','8':'August','9':'September','10':'October','11':'November','12':'December'}\n",
    "\n",
    "def month_converter (row):\n",
    "    date = row['release_date']\n",
    "    month = date[:2]\n",
    "    if (month[1]== '/'):\n",
    "        month = month[:1]\n",
    "    return months[month]\n",
    "\n",
    "filmdf.loc[:,'month'] = filmdf.apply(month_converter, axis=1)\n",
    "counter = 0\n",
    "for row in filmdf['month']:\n",
    "    if (row =='June' or row == 'July' or row == 'August'):\n",
    "        counter+=1\n",
    "print(counter)\n",
    "answers['22']=counter"
   ]
  },
  {
   "cell_type": "markdown",
   "metadata": {
    "colab_type": "text",
    "id": "G94ppOY1VqAA"
   },
   "source": [
    "# 23. Для какого режиссера зима – самое продуктивное время года? "
   ]
  },
  {
   "cell_type": "code",
   "execution_count": 0,
   "metadata": {
    "colab": {},
    "colab_type": "code",
    "id": "RhNTsamuVqAB"
   },
   "outputs": [],
   "source": [
    "\n",
    "winter = ['1', '2', '12']\n",
    "\n",
    "\n",
    "def month_filter(row):\n",
    "    date = row['release_date']\n",
    "    month = date[:2]\n",
    "    if (month[1] == '/'):\n",
    "        month = month[:1]\n",
    "    return month in winter\n",
    "\n",
    "dfa = filmdf.apply(month_filter, axis=1)\n",
    "directors = filmdf.loc[dfa.to_list()]\n",
    "grouped_directors = directors.groupby(by='director').imdb_id.count()\n",
    "print(grouped_directors.sort_values(ascending=False).head(1).index.item())\n",
    "answers['23'] = grouped_directors.sort_values(ascending=False).head(1).index.item()"
   ]
  },
  {
   "cell_type": "markdown",
   "metadata": {
    "colab_type": "text",
    "id": "RBo0JVjVVqAF"
   },
   "source": [
    "# 24. Какая студия дает самые длинные названия своим фильмам по количеству символов?"
   ]
  },
  {
   "cell_type": "code",
   "execution_count": 0,
   "metadata": {
    "colab": {},
    "colab_type": "code",
    "id": "QRGS8L0iVqAG"
   },
   "outputs": [],
   "source": [
    "stats = pd.Series([], dtype='string')\n",
    "\n",
    "for id in filmdf.index:\n",
    "    row = filmdf.loc[id]\n",
    "    companies = row.production_companies.split('|')\n",
    "    stats = stats.append(pd.Series(np.repeat(len(row.original_title), len(companies)), index=companies))\n",
    "grouped = stats.groupby(level=0).mean()\n",
    "print(grouped.sort_values(ascending=False).head(1).index.item())\n",
    "\n",
    "answers['24'] = grouped.sort_values(ascending=False).head(1).index.item()"
   ]
  },
  {
   "cell_type": "markdown",
   "metadata": {
    "colab_type": "text",
    "id": "9G0hbvR7VqAK"
   },
   "source": [
    "# 25. Описание фильмов какой студии в среднем самые длинные по количеству слов?"
   ]
  },
  {
   "cell_type": "code",
   "execution_count": 0,
   "metadata": {
    "colab": {},
    "colab_type": "code",
    "id": "Ge2GsLNxVqAK"
   },
   "outputs": [],
   "source": [
    "stats = pd.Series([], dtype='string')\n",
    "\n",
    "for id in filmdf.index:\n",
    "    row = filmdf.loc[id]\n",
    "    companies = row.production_companies.split('|')\n",
    "    stats = stats.append(pd.Series(np.repeat(len(row.overview.split(' ')), len(companies)), index=companies))\n",
    "grouped = stats.groupby(level=0).mean()\n",
    "print(grouped.sort_values(ascending=False).head(1).index.item())\n",
    "answers['25'] = grouped.sort_values(ascending=False).head(1).index.item()"
   ]
  },
  {
   "cell_type": "markdown",
   "metadata": {
    "colab_type": "text",
    "id": "FJ1AFt90VqAP"
   },
   "source": [
    "# 26. Какие фильмы входят в 1 процент лучших по рейтингу? \n",
    "по vote_average"
   ]
  },
  {
   "cell_type": "code",
   "execution_count": 0,
   "metadata": {
    "colab": {},
    "colab_type": "code",
    "id": "8qmJVq4CVqAQ"
   },
   "outputs": [],
   "source": [
    "film_rate = pd.Series(filmdf[filmdf.vote_average >= filmdf.vote_average.quantile(q=0.99)].original_title)\n",
    "display(film_rate)\n",
    "answers['26']='1'"
   ]
  },
  {
   "cell_type": "markdown",
   "metadata": {
    "colab_type": "text",
    "id": "MdXsUXbCVqAV"
   },
   "source": [
    "# 27. Какие актеры чаще всего снимаются в одном фильме вместе?\n"
   ]
  },
  {
   "cell_type": "markdown",
   "metadata": {
    "colab_type": "text",
    "id": "4ymnxEVoVqAW"
   },
   "source": [
    "ВАРИАНТ 2"
   ]
  },
  {
   "cell_type": "markdown",
   "metadata": {
    "colab_type": "text",
    "id": "U0nONFnGVqAX"
   },
   "source": [
    "# Submission"
   ]
  },
  {
   "cell_type": "code",
   "execution_count": 0,
   "metadata": {
    "colab": {},
    "colab_type": "code",
    "id": "IfcaRO9-VqAX",
    "outputId": "0f132912-32bb-4196-c98c-abfbc4ad5a5f"
   },
   "outputs": [
    {
     "data": {
      "text/plain": [
       "{'1': '...', '2': '...'}"
      ]
     },
     "execution_count": 8,
     "metadata": {
      "tags": []
     },
     "output_type": "execute_result"
    }
   ],
   "source": [
    "# в конце можно посмотреть свои ответы к каждому вопросу\n",
    "answers"
   ]
  },
  {
   "cell_type": "code",
   "execution_count": 0,
   "metadata": {
    "colab": {},
    "colab_type": "code",
    "id": "SiRmHPl8VqAd"
   },
   "outputs": [],
   "source": [
    "# и убедиться что ни чего не пропустил)\n",
    "len(answers)"
   ]
  },
  {
   "cell_type": "code",
   "execution_count": 0,
   "metadata": {
    "colab": {},
    "colab_type": "code",
    "id": "uCfuTkRbVqAg"
   },
   "outputs": [],
   "source": []
  },
  {
   "cell_type": "code",
   "execution_count": 0,
   "metadata": {
    "colab": {},
    "colab_type": "code",
    "id": "Vwx3NrkSVqAl"
   },
   "outputs": [],
   "source": []
  }
 ],
 "metadata": {
  "colab": {
   "name": "Copy of [SF-DST] Movies IMBD v4.1 TEMPLATE.ipynb",
   "provenance": []
  },
  "kernelspec": {
   "display_name": "Python 3",
   "language": "python",
   "name": "python3"
  },
  "language_info": {
   "codemirror_mode": {
    "name": "ipython",
    "version": 3
   },
   "file_extension": ".py",
   "mimetype": "text/x-python",
   "name": "python",
   "nbconvert_exporter": "python",
   "pygments_lexer": "ipython3",
   "version": "3.7.4"
  }
 },
 "nbformat": 4,
 "nbformat_minor": 1
}